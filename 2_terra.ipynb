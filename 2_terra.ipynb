{
 "cells": [
  {
   "cell_type": "markdown",
   "metadata": {
    "slideshow": {
     "slide_type": "slide"
    }
   },
   "source": [
    "# Using Qiskit Terra\n",
    "\n",
    "abraham.asfaw@ibm.com<br/>\n",
    "April 2019<br/>\n",
    "(Thanks to donny@ibm.com, kevin.krsulich@ibm.com and talexander@ibm.com)"
   ]
  },
  {
   "cell_type": "markdown",
   "metadata": {
    "slideshow": {
     "slide_type": "fragment"
    }
   },
   "source": [
    "Qiskit Terra contains tools that **define**, **compile** and **execute** quantum circuits on arbitrary **backends**"
   ]
  },
  {
   "cell_type": "markdown",
   "metadata": {
    "slideshow": {
     "slide_type": "fragment"
    }
   },
   "source": [
    "For much of this talk, I will focus on a simple circuit that creates two-qubit entanglement.\n",
    "\n",
    "[Generating a Bell state](https://demonstrations.wolfram.com/GeneratingEntangledQubits/)\n"
   ]
  },
  {
   "cell_type": "code",
   "execution_count": 1,
   "metadata": {
    "slideshow": {
     "slide_type": "slide"
    }
   },
   "outputs": [],
   "source": [
    "# Your first Qiskit application\n",
    "from qiskit import QuantumRegister, ClassicalRegister, QuantumCircuit\n",
    "\n",
    "qr = QuantumRegister(2) # qubits indexed as qr[0], qr[1] and qr[2]\n",
    "cr = ClassicalRegister(2) # classical bits indexed as cr[0], cr[1] and cr[2]\n",
    "circuit = QuantumCircuit(qr, cr)"
   ]
  },
  {
   "cell_type": "code",
   "execution_count": 2,
   "metadata": {
    "slideshow": {
     "slide_type": "fragment"
    }
   },
   "outputs": [
    {
     "data": {
      "text/plain": [
       "<qiskit.circuit.instructionset.InstructionSet at 0x11dc06c18>"
      ]
     },
     "execution_count": 2,
     "metadata": {},
     "output_type": "execute_result"
    }
   ],
   "source": [
    "circuit.h(qr[0])\n",
    "circuit.cx(qr[0], qr[1])\n",
    "circuit.measure(qr, cr)"
   ]
  },
  {
   "cell_type": "markdown",
   "metadata": {
    "slideshow": {
     "slide_type": "fragment"
    }
   },
   "source": [
    "Additional gates can be found in our qiskit tutorials on Github<br/>\n",
    "[List of quantum operations](https://github.com/Qiskit/qiskit-tutorials/blob/master/qiskit/terra/summary_of_quantum_operations.ipynb)"
   ]
  },
  {
   "cell_type": "code",
   "execution_count": 3,
   "metadata": {
    "slideshow": {
     "slide_type": "fragment"
    }
   },
   "outputs": [
    {
     "data": {
      "text/html": [
       "<pre style=\"word-wrap: normal;white-space: pre;line-height: 15px;\">         ┌───┐        ┌─┐\n",
       "q0_0: |0>┤ H ├──■─────┤M├\n",
       "         └───┘┌─┴─┐┌─┐└╥┘\n",
       "q0_1: |0>─────┤ X ├┤M├─╫─\n",
       "              └───┘└╥┘ ║ \n",
       " c0_0: 0 ═══════════╬══╩═\n",
       "                    ║    \n",
       " c0_1: 0 ═══════════╩════\n",
       "                         </pre>"
      ],
      "text/plain": [
       "<qiskit.tools.visualization._text.TextDrawing at 0x10e088860>"
      ]
     },
     "execution_count": 3,
     "metadata": {},
     "output_type": "execute_result"
    }
   ],
   "source": [
    "circuit.draw()"
   ]
  },
  {
   "cell_type": "code",
   "execution_count": 4,
   "metadata": {
    "slideshow": {
     "slide_type": "fragment"
    }
   },
   "outputs": [
    {
     "data": {
      "text/plain": [
       "'% \\\\documentclass[preview]{standalone}\\n% If the image is too large to fit on this documentclass use\\n\\\\documentclass[draft]{beamer}\\n% img_width = 4, img_depth = 6\\n\\\\usepackage[size=custom,height=10,width=12,scale=0.7]{beamerposter}\\n% instead and customize the height and width (in cm) to fit.\\n% Large images may run out of memory quickly.\\n% To fix this use the LuaLaTeX compiler, which dynamically\\n% allocates memory.\\n\\\\usepackage[braket, qm]{qcircuit}\\n\\\\usepackage{amsmath}\\n\\\\pdfmapfile{+sansmathaccent.map}\\n% \\\\usepackage[landscape]{geometry}\\n% Comment out the above line if using the beamer documentclass.\\n\\\\begin{document}\\n\\\\begin{equation*}\\n    \\\\Qcircuit @C=0.5em @R=0.0em @!R {\\n\\t \\t\\\\lstick{q0_{0}: \\\\ket{0}} & \\\\gate{H} & \\\\ctrl{1} & \\\\qw & \\\\meter & \\\\qw & \\\\qw\\\\\\\\\\n\\t \\t\\\\lstick{q0_{1}: \\\\ket{0}} & \\\\qw & \\\\targ & \\\\meter & \\\\qw & \\\\qw & \\\\qw\\\\\\\\\\n\\t \\t\\\\lstick{c0_{0}: 0} & \\\\cw & \\\\cw & \\\\cw & \\\\cw \\\\cwx[-2] & \\\\cw & \\\\cw\\\\\\\\\\n\\t \\t\\\\lstick{c0_{1}: 0} & \\\\cw & \\\\cw & \\\\cw \\\\cwx[-2] & \\\\cw & \\\\cw & \\\\cw\\\\\\\\\\n\\t }\\n\\\\end{equation*}\\n\\n\\\\end{document}'"
      ]
     },
     "execution_count": 4,
     "metadata": {},
     "output_type": "execute_result"
    }
   ],
   "source": [
    "circuit.draw(output='latex_source')"
   ]
  },
  {
   "cell_type": "code",
   "execution_count": 5,
   "metadata": {
    "slideshow": {
     "slide_type": "fragment"
    }
   },
   "outputs": [
    {
     "name": "stdout",
     "output_type": "stream",
     "text": [
      "OPENQASM 2.0;\n",
      "include \"qelib1.inc\";\n",
      "qreg q0[2];\n",
      "creg c0[2];\n",
      "h q0[0];\n",
      "cx q0[0],q0[1];\n",
      "measure q0[0] -> c0[0];\n",
      "measure q0[1] -> c0[1];\n",
      "\n"
     ]
    }
   ],
   "source": [
    "print(circuit.qasm())"
   ]
  },
  {
   "cell_type": "markdown",
   "metadata": {
    "slideshow": {
     "slide_type": "slide"
    }
   },
   "source": [
    "### Compiling and executing the circuit on a simulator backend"
   ]
  },
  {
   "cell_type": "code",
   "execution_count": 6,
   "metadata": {
    "slideshow": {
     "slide_type": "fragment"
    }
   },
   "outputs": [
    {
     "name": "stdout",
     "output_type": "stream",
     "text": [
      "{'11': 519, '00': 481}\n"
     ]
    }
   ],
   "source": [
    "from qiskit import Aer, execute\n",
    "\n",
    "# pick a backend, in this case a simulator\n",
    "backend = Aer.get_backend('qasm_simulator')\n",
    "\n",
    "# start a simulation job on the backend\n",
    "job = execute(circuit, backend, shots=1000)\n",
    "\n",
    "# collect the job results and display them\n",
    "result = job.result()\n",
    "counts = result.get_counts(circuit)\n",
    "print(counts)"
   ]
  },
  {
   "cell_type": "code",
   "execution_count": 7,
   "metadata": {
    "slideshow": {
     "slide_type": "fragment"
    }
   },
   "outputs": [
    {
     "data": {
      "image/png": "[encoded data removed]",
      "text/plain": [
       "<Figure size 504x360 with 1 Axes>"
      ]
     },
     "execution_count": 7,
     "metadata": {},
     "output_type": "execute_result"
    }
   ],
   "source": [
    "from qiskit.tools.visualization import plot_histogram\n",
    "plot_histogram(counts)"
   ]
  },
  {
   "cell_type": "markdown",
   "metadata": {
    "slideshow": {
     "slide_type": "slide"
    }
   },
   "source": [
    "### Compiling and executing the circuit on a real device"
   ]
  },
  {
   "cell_type": "code",
   "execution_count": 8,
   "metadata": {
    "slideshow": {
     "slide_type": "slide"
    }
   },
   "outputs": [
    {
     "data": {
      "text/plain": [
       "[<IBMQBackend('ibmqx4') from IBMQ()>,\n",
       " <IBMQBackend('ibmqx2') from IBMQ()>,\n",
       " <IBMQBackend('ibmq_16_melbourne') from IBMQ()>,\n",
       " <IBMQBackend('ibmq_qasm_simulator') from IBMQ()>,\n",
       " <IBMQBackend('ibmq_20_tokyo') from IBMQ(ibm-q-internal, yrk, main)>,\n",
       " <IBMQBackend('ibmq_poughkeepsie') from IBMQ(ibm-q-internal, yrk, main)>,\n",
       " <IBMQBackend('ibmq_qasm_simulator') from IBMQ(ibm-q-internal, yrk, main)>]"
      ]
     },
     "execution_count": 8,
     "metadata": {},
     "output_type": "execute_result"
    }
   ],
   "source": [
    "from qiskit import IBMQ\n",
    "\n",
    "IBMQ.load_accounts()\n",
    "IBMQ.backends()"
   ]
  },
  {
   "cell_type": "code",
   "execution_count": 9,
   "metadata": {
    "slideshow": {
     "slide_type": "fragment"
    }
   },
   "outputs": [
    {
     "name": "stdout",
     "output_type": "stream",
     "text": [
      "{'01': 68, '11': 425, '10': 70, '00': 437}\n"
     ]
    }
   ],
   "source": [
    "# OPTION 1: pick a specific backend\n",
    "backend = IBMQ.get_backend('ibmq_16_melbourne')\n",
    "# OPTION 2: pick the least busy backend\n",
    "from qiskit.providers.ibmq import least_busy\n",
    "backend = least_busy(IBMQ.backends(simulator=False))\n",
    "\n",
    "# start a simulation job on the backend\n",
    "job = execute(circuit, backend, shots=1000)\n",
    "\n",
    "# collect the job results and display them\n",
    "result = job.result()\n",
    "counts = result.get_counts(circuit)\n",
    "print(counts)"
   ]
  },
  {
   "cell_type": "code",
   "execution_count": 10,
   "metadata": {
    "slideshow": {
     "slide_type": "fragment"
    }
   },
   "outputs": [
    {
     "data": {
      "application/vnd.jupyter.widget-view+json": {
       "model_id": "bb1382d3b0224006a6fce1c7ed1a5d8e",
       "version_major": 2,
       "version_minor": 0
      },
      "text/plain": [
       "HTML(value=\"<p style='font-size:16px;'>Job Status: job is being initialized </p>\")"
      ]
     },
     "metadata": {},
     "output_type": "display_data"
    },
    {
     "name": "stdout",
     "output_type": "stream",
     "text": [
      "{'01': 76, '11': 398, '10': 40, '00': 486}\n"
     ]
    }
   ],
   "source": [
    "# OPTION 1: pick a specific backend\n",
    "backend = IBMQ.get_backend('ibmq_16_melbourne')\n",
    "# OPTION 2: pick the least busy backend\n",
    "from qiskit.providers.ibmq import least_busy\n",
    "backend = least_busy(IBMQ.backends(simulator=False))\n",
    "\n",
    "# start a simulation job on the backend\n",
    "job = execute(circuit, backend, shots=1000)\n",
    "\n",
    "# monitor the job\n",
    "from qiskit.tools.monitor import job_monitor\n",
    "job_monitor(job)\n",
    "\n",
    "# collect the job results and display them\n",
    "result = job.result()\n",
    "counts = result.get_counts(circuit)\n",
    "print(counts)"
   ]
  },
  {
   "cell_type": "code",
   "execution_count": 11,
   "metadata": {},
   "outputs": [
    {
     "data": {
      "image/png": "[encoded data removed]",
      "text/plain": [
       "<Figure size 504x360 with 1 Axes>"
      ]
     },
     "execution_count": 11,
     "metadata": {},
     "output_type": "execute_result"
    }
   ],
   "source": [
    "plot_histogram(counts)"
   ]
  },
  {
   "cell_type": "code",
   "execution_count": 12,
   "metadata": {},
   "outputs": [
    {
     "data": {
      "application/vnd.jupyter.widget-view+json": {
       "model_id": "7a59ed90e9b94609a01054460a3ce55d",
       "version_major": 2,
       "version_minor": 0
      },
      "text/plain": [
       "VBox(children=(HTML(value=\"<h1 style='color:#ffffff;background-color:#000000;padding-top: 1%;padding-bottom: 1…"
      ]
     },
     "metadata": {},
     "output_type": "display_data"
    }
   ],
   "source": [
    "%qiskit_backend_monitor backend"
   ]
  },
  {
   "cell_type": "markdown",
   "metadata": {
    "slideshow": {
     "slide_type": "slide"
    }
   },
   "source": [
    "## What goes on under the hood when you call `execute`"
   ]
  },
  {
   "cell_type": "markdown",
   "metadata": {
    "slideshow": {
     "slide_type": "fragment"
    }
   },
   "source": [
    "<img src='execute_flow.pngpng.png'>"
   ]
  },
  {
   "cell_type": "code",
   "execution_count": 13,
   "metadata": {
    "slideshow": {
     "slide_type": "slide"
    }
   },
   "outputs": [
    {
     "data": {
      "text/html": [
       "<pre style=\"word-wrap: normal;white-space: pre;line-height: 15px;\">                  ┌───┐          ┌───┐\n",
       "q_0: |0>───────■──┤ X ├──■───────┤ X ├\n",
       "               │  └─┬─┘┌─┴─┐┌───┐└─┬─┘\n",
       "q_1: |0>───────┼────┼──┤ X ├┤ X ├──┼──\n",
       "               │    │  └───┘└─┬─┘  │  \n",
       "q_2: |0>───────┼────┼─────────┼────┼──\n",
       "        ┌───┐  │    │         │    │  \n",
       "q_3: |0>┤ H ├──┼────┼─────────■────■──\n",
       "        └───┘  │    │                 \n",
       "q_4: |0>───────┼────┼─────────────────\n",
       "               │    │                 \n",
       "q_5: |0>───────┼────┼─────────────────\n",
       "             ┌─┴─┐  │                 \n",
       "q_6: |0>─────┤ X ├──■─────────────────\n",
       "             └───┘                    </pre>"
      ],
      "text/plain": [
       "<qiskit.tools.visualization._text.TextDrawing at 0x121ec1c88>"
      ]
     },
     "execution_count": 13,
     "metadata": {},
     "output_type": "execute_result"
    }
   ],
   "source": [
    "qr = QuantumRegister(7, 'q')\n",
    "qr = QuantumRegister(7, 'q')\n",
    "tpl_circuit = QuantumCircuit(qr)\n",
    "tpl_circuit.h(qr[3])\n",
    "tpl_circuit.cx(qr[0], qr[6])\n",
    "tpl_circuit.cx(qr[6], qr[0])\n",
    "tpl_circuit.cx(qr[0], qr[1])\n",
    "tpl_circuit.cx(qr[3], qr[1])\n",
    "tpl_circuit.cx(qr[3], qr[0])\n",
    "tpl_circuit.draw()"
   ]
  },
  {
   "cell_type": "code",
   "execution_count": 14,
   "metadata": {
    "slideshow": {
     "slide_type": "fragment"
    }
   },
   "outputs": [],
   "source": [
    "from qiskit.transpiler import PassManager\n",
    "from qiskit.transpiler.passes import BasicSwap\n",
    "from qiskit.transpiler import transpile\n",
    "from qiskit.mapper import CouplingMap"
   ]
  },
  {
   "cell_type": "code",
   "execution_count": 15,
   "metadata": {},
   "outputs": [
    {
     "name": "stdout",
     "output_type": "stream",
     "text": [
      "Help on class BasicSwap in module qiskit.transpiler.passes.mapping.basic_swap:\n",
      "\n",
      "class BasicSwap(qiskit.transpiler._basepasses.TransformationPass)\n",
      " |  BasicSwap(*args, **kwargs)\n",
      " |  \n",
      " |  Maps (with minimum effort) a DAGCircuit onto a `coupling_map` adding swap gates.\n",
      " |  \n",
      " |  Method resolution order:\n",
      " |      BasicSwap\n",
      " |      qiskit.transpiler._basepasses.TransformationPass\n",
      " |      qiskit.transpiler._basepasses.BasePass\n",
      " |      builtins.object\n",
      " |  \n",
      " |  Methods defined here:\n",
      " |  \n",
      " |  __init__(self, coupling_map, initial_layout=None)\n",
      " |      Maps a DAGCircuit onto a `coupling_map` using swap gates.\n",
      " |      Args:\n",
      " |          coupling_map (CouplingMap): Directed graph represented a coupling map.\n",
      " |          initial_layout (Layout): initial layout of qubits in mapping\n",
      " |  \n",
      " |  run(self, dag)\n",
      " |      Runs the BasicSwap pass on `dag`.\n",
      " |      Args:\n",
      " |          dag (DAGCircuit): DAG to map.\n",
      " |      \n",
      " |      Returns:\n",
      " |          DAGCircuit: A mapped DAG.\n",
      " |  \n",
      " |  ----------------------------------------------------------------------\n",
      " |  Methods inherited from qiskit.transpiler._basepasses.BasePass:\n",
      " |  \n",
      " |  name(self)\n",
      " |      The name of the pass.\n",
      " |  \n",
      " |  ----------------------------------------------------------------------\n",
      " |  Class methods inherited from qiskit.transpiler._basepasses.BasePass:\n",
      " |  \n",
      " |  normalize_parameters(*args, **kwargs) from qiskit.transpiler._basepasses.MetaPass\n",
      " |      Because passes with the same args/kwargs are considered the same, this method allows to\n",
      " |      modify the args/kargs to respect that identity.\n",
      " |      Args:\n",
      " |          *args: args to normalize\n",
      " |          **kwargs: kwargs to normalize\n",
      " |      \n",
      " |      Returns:\n",
      " |          tuple: normalized (list(args), dict(kwargs))\n",
      " |  \n",
      " |  ----------------------------------------------------------------------\n",
      " |  Data descriptors inherited from qiskit.transpiler._basepasses.BasePass:\n",
      " |  \n",
      " |  __dict__\n",
      " |      dictionary for instance variables (if defined)\n",
      " |  \n",
      " |  __weakref__\n",
      " |      list of weak references to the object (if defined)\n",
      " |  \n",
      " |  is_analysis_pass\n",
      " |      If the pass is an AnalysisPass, that means that the pass can analyze the DAG and write\n",
      " |      the results of that analysis in the property set. Modifications on the DAG are not allowed\n",
      " |      by this kind of pass.\n",
      " |  \n",
      " |  is_transformation_pass\n",
      " |      If the pass is a TransformationPass, that means that the pass can manipulate the DAG,\n",
      " |      but cannot modify the property set (but it can be read).\n",
      "\n"
     ]
    }
   ],
   "source": [
    "help(BasicSwap)"
   ]
  },
  {
   "cell_type": "code",
   "execution_count": 16,
   "metadata": {
    "slideshow": {
     "slide_type": "fragment"
    }
   },
   "outputs": [
    {
     "data": {
      "text/html": [
       "<pre style=\"word-wrap: normal;white-space: pre;line-height: 15px;\">                                                  ┌───┐      ┌───┐     \n",
       "q_0: |0>──────X───────────────────────────────────┤ X ├──────┤ X ├─────\n",
       "              │                                   └─┬─┘      └─┬─┘     \n",
       "q_1: |0>──────X──X──────────────────────────────X───■──────X───■────■──\n",
       "                 │                              │          │      ┌─┴─┐\n",
       "q_2: |0>─────────X──X────────────────────────X──X───────X──X──────┤ X ├\n",
       "        ┌───┐       │                        │          │         └───┘\n",
       "q_3: |0>┤ H ├───────X──X──────────────────X──X──────────X──────────────\n",
       "        └───┘          │                  │                            \n",
       "q_4: |0>───────────────X──X────────────X──X────────────────────────────\n",
       "                          │      ┌───┐ │                               \n",
       "q_5: |0>──────────────────X───■──┤ X ├─X───────────────────────────────\n",
       "                            ┌─┴─┐└─┬─┘                                 \n",
       "q_6: |0>────────────────────┤ X ├──■───────────────────────────────────\n",
       "                            └───┘                                      </pre>"
      ],
      "text/plain": [
       "<qiskit.tools.visualization._text.TextDrawing at 0x121840f98>"
      ]
     },
     "execution_count": 16,
     "metadata": {},
     "output_type": "execute_result"
    }
   ],
   "source": [
    "coupling = [[0, 1], [1, 2], [2, 3], [3, 4], [4, 5], [5, 6]]\n",
    "\n",
    "simulator = Aer.get_backend('qasm_simulator')\n",
    "coupling_map = CouplingMap(couplinglist=coupling)\n",
    "pass_manager = PassManager()\n",
    "pass_manager.append([BasicSwap(coupling_map=coupling_map)])\n",
    "basic_circ = transpile(tpl_circuit, simulator, pass_manager=pass_manager)\n",
    "basic_circ.draw()"
   ]
  },
  {
   "cell_type": "code",
   "execution_count": 17,
   "metadata": {
    "slideshow": {
     "slide_type": "slide"
    }
   },
   "outputs": [
    {
     "data": {
      "text/plain": [
       "[<IBMQBackend('ibmqx4') from IBMQ()>,\n",
       " <IBMQBackend('ibmqx2') from IBMQ()>,\n",
       " <IBMQBackend('ibmq_16_melbourne') from IBMQ()>,\n",
       " <IBMQBackend('ibmq_qasm_simulator') from IBMQ()>,\n",
       " <IBMQBackend('ibmq_20_tokyo') from IBMQ(ibm-q-internal, yrk, main)>,\n",
       " <IBMQBackend('ibmq_poughkeepsie') from IBMQ(ibm-q-internal, yrk, main)>,\n",
       " <IBMQBackend('ibmq_qasm_simulator') from IBMQ(ibm-q-internal, yrk, main)>]"
      ]
     },
     "execution_count": 17,
     "metadata": {},
     "output_type": "execute_result"
    }
   ],
   "source": [
    "IBMQ.backends()"
   ]
  },
  {
   "cell_type": "code",
   "execution_count": 18,
   "metadata": {},
   "outputs": [
    {
     "data": {
      "text/html": [
       "<pre style=\"word-wrap: normal;white-space: pre;line-height: 15px;\">                                                                                                                                                                                                                                                       »\n",
       " q_0: |0>──────────────────────────────────────────────────────────────────────────────────────────────────────────────────────────────────────────────────────────────────────────────────────────────────────────────────────────────────────────────»\n",
       "                                                                                                                                                                                                                                                       »\n",
       " q_1: |0>──────────────────────────────────────────────────────────────────────────────────────────────────────────────────────────────────────────────────────────────────────────────────────────────────────────────────────────────────────────────»\n",
       "                                                                                                                                                                                                  ┌──────────────┐                     ┌──────────────┐»\n",
       " q_2: |0>─────────────────────────────────────────────────────────────────────────────────────────────────────────────────────────────────────────────────────────────────────────────────────────┤ U2(0,3.1416) ├──■──────────────────┤ U2(0,3.1416) ├»\n",
       "                                         ┌──────────────┐┌───┐┌──────────────┐                ┌───┐                                                                               ┌──────────────┐└──────────────┘┌─┴─┐┌──────────────┐└──────────────┘»\n",
       " q_3: |0>────────────────────────────────┤ U2(0,3.1416) ├┤ X ├┤ U2(0,3.1416) ├────────────────┤ X ├───────────────────────────────────────────────────────────────────────────────┤ U2(0,3.1416) ├────────────────┤ X ├┤ U2(0,3.1416) ├────────────────»\n",
       "                                         └──────────────┘└─┬─┘└──────────────┘                └─┬─┘                                                                               └──────────────┘                └───┘└──────────────┘                »\n",
       " q_4: |0>──────────────────────────────────────────────────┼────────────────────────────────────┼──────────────────────────────────────────────────────────────────────────────────────────────────────────────────────────────────────────────────────»\n",
       "                                                           │                                    │                                                                                                                                                      »\n",
       " q_5: |0>──────────────────────────────────────────────────┼────────────────────────────────────┼──────────────────────────────────────────────────────────────────────────────────────────────────────────────────────────────────────────────────────»\n",
       "                                                           │                                    │                                                                                                                                                      »\n",
       " q_6: |0>──────────────────────────────────────────────────┼────────────────────────────────────┼──────────────────────────────────────────────────────────────────────────────────────────────────────────────────────────────────────────────────────»\n",
       "                                                           │                                    │                                                                                                                                                      »\n",
       " q_7: |0>──────────────────────────────────────────────────┼────────────────────────────────────┼──────────────────────────────────────────────────────────────────────────────────────────────────────────────────────────────────────────────────────»\n",
       "                                                           │                                    │                                                                                                                                                      »\n",
       " q_8: |0>──────────────────────────────────────────────────┼────────────────────────────────────┼──────────────────────────────────────────────────────────────────────────────────────────────────────────────────────────────────────────────────────»\n",
       "                                                           │                                    │                                                                                                                                                      »\n",
       " q_9: |0>──────────────────────────────────────────────────┼────────────────────────────────────┼──────────────────────────────────────────────────────────────────────────────────────────────────────────────────────────────────────────────────────»\n",
       "                         ┌──────────────┐                  │                                    │  ┌───┐                ┌──────────────┐┌───┐┌──────────────┐                ┌───┐                                                                     »\n",
       "q_10: |0>────────────────┤ U2(0,3.1416) ├──────────────────┼────────────────────────────────────┼──┤ X ├────────────────┤ U2(0,3.1416) ├┤ X ├┤ U2(0,3.1416) ├────────────────┤ X ├─────────────────────────────────────────────────────────────────────»\n",
       "         ┌──────────────┐└──────────────┘                  │                  ┌──────────────┐  │  └─┬─┘┌──────────────┐└──────────────┘└─┬─┘└──────────────┘┌──────────────┐└─┬─┘                                                                     »\n",
       "q_11: |0>┤ U2(0,3.1416) ├──────────────────────────────────■──────────────────┤ U2(0,3.1416) ├──■────■──┤ U2(0,3.1416) ├──────────────────■──────────────────┤ U2(0,3.1416) ├──■───────────────────────────────────────────────────────────────────────»\n",
       "         └──────────────┘                                                     └──────────────┘          └──────────────┘                                     └──────────────┘                                                                          »\n",
       "q_12: |0>──────────────────────────────────────────────────────────────────────────────────────────────────────────────────────────────────────────────────────────────────────────────────────────────────────────────────────────────────────────────»\n",
       "                                                                                                                                                                                                                                                       »\n",
       "q_13: |0>──────────────────────────────────────────────────────────────────────────────────────────────────────────────────────────────────────────────────────────────────────────────────────────────────────────────────────────────────────────────»\n",
       "                                                                                                                                                                                                                                                       »\n",
       "«                                                                                                                                                                              \n",
       "« q_0: ────────────────────────────────────────────────────────────────────────────────────────────────────────────────────────────────────────────────────────────────────────\n",
       "«                                                                                                                                                                              \n",
       "« q_1: ────────────────────────────────────────────────────────────────────────────────────────────────────────────────────────────────────────────────────────────────────────\n",
       "«                           ┌──────────────┐                     ┌──────────────┐     ┌───┐                ┌──────────────┐┌───┐┌──────────────┐                ┌───┐          \n",
       "« q_2: ──■──────────────────┤ U2(0,3.1416) ├──■──────────────────┤ U2(0,3.1416) ├──■──┤ X ├────────────────┤ U2(0,3.1416) ├┤ X ├┤ U2(0,3.1416) ├────────────────┤ X ├──────────\n",
       "«      ┌─┴─┐┌──────────────┐└──────────────┘┌─┴─┐┌──────────────┐└──────────────┘┌─┴─┐└─┬─┘                └──────────────┘└─┬─┘└──────────────┘                └─┬─┘┌───┐     \n",
       "« q_3: ┤ X ├┤ U2(0,3.1416) ├────────────────┤ X ├┤ U2(0,3.1416) ├────────────────┤ X ├──┼────────────────────────────────────┼────────────────────────────────────┼──┤ X ├─────\n",
       "«      └───┘└──────────────┘                └───┘└──────────────┘                └───┘  │                                    │                                    │  └─┬─┘     \n",
       "« q_4: ─────────────────────────────────────────────────────────────────────────────────┼────────────────────────────────────┼────────────────────────────────────┼────┼───────\n",
       "«                                                                                       │                                    │                                    │    │       \n",
       "« q_5: ─────────────────────────────────────────────────────────────────────────────────┼────────────────────────────────────┼────────────────────────────────────┼────┼───────\n",
       "«                                                                                       │                                    │                                    │    │       \n",
       "« q_6: ─────────────────────────────────────────────────────────────────────────────────┼────────────────────────────────────┼────────────────────────────────────┼────┼───────\n",
       "«                                                                                       │                                    │                                    │    │       \n",
       "« q_7: ─────────────────────────────────────────────────────────────────────────────────┼────────────────────────────────────┼────────────────────────────────────┼────┼───────\n",
       "«                                                                                       │                                    │                                    │    │       \n",
       "« q_8: ─────────────────────────────────────────────────────────────────────────────────┼────────────────────────────────────┼────────────────────────────────────┼────┼───────\n",
       "«                                                                                       │                                    │                                    │    │       \n",
       "« q_9: ─────────────────────────────────────────────────────────────────────────────────┼────────────────────────────────────┼────────────────────────────────────┼────┼───────\n",
       "«                                                                                       │                                    │                                    │    │       \n",
       "«q_10: ─────────────────────────────────────────────────────────────────────────────────┼────────────────────────────────────┼────────────────────────────────────┼────┼───────\n",
       "«                                                                                       │                                    │                                    │    │       \n",
       "«q_11: ─────────────────────────────────────────────────────────────────────────────────┼────────────────────────────────────┼────────────────────────────────────┼────■────■──\n",
       "«                                                                                       │  ┌──────────────┐                  │                  ┌──────────────┐  │       ┌─┴─┐\n",
       "«q_12: ─────────────────────────────────────────────────────────────────────────────────■──┤ U2(0,3.1416) ├──────────────────■──────────────────┤ U2(0,3.1416) ├──■───────┤ X ├\n",
       "«                                                                                          └──────────────┘                                     └──────────────┘          └───┘\n",
       "«q_13: ────────────────────────────────────────────────────────────────────────────────────────────────────────────────────────────────────────────────────────────────────────\n",
       "«                                                                                                                                                                              </pre>"
      ],
      "text/plain": [
       "<qiskit.tools.visualization._text.TextDrawing at 0x121ec1668>"
      ]
     },
     "execution_count": 18,
     "metadata": {},
     "output_type": "execute_result"
    }
   ],
   "source": [
    "realdevice = IBMQ.get_backend('ibmq_16_melbourne')\n",
    "tpl_realdevice = transpile(tpl_circuit, backend = realdevice)\n",
    "tpl_realdevice.draw(line_length = 250)"
   ]
  },
  {
   "cell_type": "markdown",
   "metadata": {
    "slideshow": {
     "slide_type": "slide"
    }
   },
   "source": [
    "**Transpilation is a work in progress, with significant contributions from within and outside IBM.**\n",
    "    * Can lead to significant overhead on real devices, leading to more noise\n"
   ]
  },
  {
   "cell_type": "markdown",
   "metadata": {
    "slideshow": {
     "slide_type": "slide"
    }
   },
   "source": [
    "# Running quantum algorithms"
   ]
  },
  {
   "cell_type": "markdown",
   "metadata": {
    "slideshow": {
     "slide_type": "fragment"
    }
   },
   "source": [
    "* Shor's Algorithm\n",
    "    * Discrete FT = O($(2^n)^2$)\n",
    "    * Fast FT = O($n\\cdot2^n$)    \n",
    "    * Quantum FT = O($n\\cdot n$) [Tutorial in Qiskit Github](https://github.com/Qiskit/qiskit-tutorials/blob/master/community/terra/qis_adv/fourier_transform.ipynb)\n",
    "* Grover's Algorithm\n",
    "    * Classical search is at least O(N)\n",
    "    * Grover's algorithm = O($\\sqrt{N}$) [Tutorial in Qiskit Github](https://github.com/Qiskit/qiskit-tutorials/blob/master/community/algorithms/grover_algorithm.ipynb)\n",
    "    \n",
    "* [Other Tutorials](https://github.com/Qiskit/)"
   ]
  },
  {
   "cell_type": "code",
   "execution_count": null,
   "metadata": {},
   "outputs": [],
   "source": []
  }
 ],
 "metadata": {
  "celltoolbar": "Slideshow",
  "kernelspec": {
   "display_name": "qiskitdev",
   "language": "python",
   "name": "qiskitdev"
  },
  "language_info": {
   "codemirror_mode": {
    "name": "ipython",
    "version": 3
   },
   "file_extension": ".py",
   "mimetype": "text/x-python",
   "name": "python",
   "nbconvert_exporter": "python",
   "pygments_lexer": "ipython3",
   "version": "3.7.2"
  }
 },
 "nbformat": 4,
 "nbformat_minor": 2
}
